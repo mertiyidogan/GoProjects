{
 "cells": [
  {
   "cell_type": "code",
   "execution_count": 1,
   "id": "9c52077e",
   "metadata": {
    "execution": {
     "iopub.execute_input": "2024-06-11T13:34:26.439661Z",
     "iopub.status.busy": "2024-06-11T13:34:26.439010Z",
     "iopub.status.idle": "2024-06-11T13:35:19.454528Z",
     "shell.execute_reply": "2024-06-11T13:35:19.453354Z"
    },
    "papermill": {
     "duration": 53.021597,
     "end_time": "2024-06-11T13:35:19.456998",
     "exception": false,
     "start_time": "2024-06-11T13:34:26.435401",
     "status": "completed"
    },
    "tags": []
   },
   "outputs": [],
   "source": [
    "!pip3 install -q git+https://github.com/huggingface/transformers"
   ]
  },
  {
   "cell_type": "code",
   "execution_count": null,
   "id": "9581db6c",
   "metadata": {
    "papermill": {
     "duration": 0.001292,
     "end_time": "2024-06-11T13:35:19.460145",
     "exception": false,
     "start_time": "2024-06-11T13:35:19.458853",
     "status": "completed"
    },
    "tags": []
   },
   "outputs": [],
   "source": []
  }
 ],
 "metadata": {
  "kaggle": {
   "accelerator": "nvidiaTeslaT4",
   "dataSources": [],
   "dockerImageVersionId": 30733,
   "isGpuEnabled": true,
   "isInternetEnabled": true,
   "language": "python",
   "sourceType": "notebook"
  },
  "kernelspec": {
   "display_name": "Python 3",
   "language": "python",
   "name": "python3"
  },
  "language_info": {
   "codemirror_mode": {
    "name": "ipython",
    "version": 3
   },
   "file_extension": ".py",
   "mimetype": "text/x-python",
   "name": "python",
   "nbconvert_exporter": "python",
   "pygments_lexer": "ipython3",
   "version": "3.10.13"
  },
  "papermill": {
   "default_parameters": {},
   "duration": 56.472463,
   "end_time": "2024-06-11T13:35:19.678899",
   "environment_variables": {},
   "exception": null,
   "input_path": "__notebook__.ipynb",
   "output_path": "__notebook__.ipynb",
   "parameters": {},
   "start_time": "2024-06-11T13:34:23.206436",
   "version": "2.5.0"
  }
 },
 "nbformat": 4,
 "nbformat_minor": 5
}
